{
 "cells": [
  {
   "cell_type": "code",
   "execution_count": 7,
   "metadata": {},
   "outputs": [],
   "source": [
    "import pandas as pd\n",
    "data = pd.read_csv('Sirinformation.csv', delimiter=\" \")"
   ]
  },
  {
   "cell_type": "code",
   "execution_count": 8,
   "metadata": {},
   "outputs": [],
   "source": [
    "pedestrian_ids = data['pedestrianId'].unique()\n",
    "ids = data['groupId-PID5'].unique()"
   ]
  },
  {
   "cell_type": "code",
   "execution_count": 10,
   "metadata": {},
   "outputs": [
    {
     "output_type": "execute_result",
     "data": {
      "text/plain": "1000"
     },
     "metadata": {},
     "execution_count": 10
    }
   ],
   "source": [
    "len(pedestrian_ids)"
   ]
  },
  {
   "cell_type": "code",
   "execution_count": 17,
   "metadata": {},
   "outputs": [
    {
     "output_type": "stream",
     "name": "stdout",
     "text": "812 0 188\n"
    }
   ],
   "source": [
    "i_count = 0\n",
    "s_count = 0\n",
    "r_count = 0\n",
    "latest = 0\n",
    "for pid in pedestrian_ids:\n",
    "    simtime_group = data[data['pedestrianId'] == pid][['simTime', 'groupId-PID5']].values\n",
    "    last = [0, 0]\n",
    "    for (st, g) in simtime_group:\n",
    "        if st > last[0]:\n",
    "            last = list((st, g))\n",
    "    if last[0] > latest:\n",
    "        latest = last[0]\n",
    "    last_state = last[-1]\n",
    "    if last_state == 1:\n",
    "        s_count += 1\n",
    "    elif last_state == 0:\n",
    "        i_count += 1\n",
    "    elif last_state == 3:\n",
    "        r_count += 1\n",
    "\n",
    "print(s_count, i_count, r_count)"
   ]
  },
  {
   "cell_type": "code",
   "execution_count": 13,
   "metadata": {},
   "outputs": [
    {
     "output_type": "execute_result",
     "data": {
      "text/plain": "272.4"
     },
     "metadata": {},
     "execution_count": 13
    }
   ],
   "source": [
    "latest"
   ]
  },
  {
   "cell_type": "code",
   "execution_count": 16,
   "metadata": {},
   "outputs": [
    {
     "output_type": "execute_result",
     "data": {
      "text/plain": "        pedestrianId  simTime  groupId-PID5\n467728           952    272.4             3\n467729           988    272.4             3",
      "text/html": "<div>\n<style scoped>\n    .dataframe tbody tr th:only-of-type {\n        vertical-align: middle;\n    }\n\n    .dataframe tbody tr th {\n        vertical-align: top;\n    }\n\n    .dataframe thead th {\n        text-align: right;\n    }\n</style>\n<table border=\"1\" class=\"dataframe\">\n  <thead>\n    <tr style=\"text-align: right;\">\n      <th></th>\n      <th>pedestrianId</th>\n      <th>simTime</th>\n      <th>groupId-PID5</th>\n    </tr>\n  </thead>\n  <tbody>\n    <tr>\n      <th>467728</th>\n      <td>952</td>\n      <td>272.4</td>\n      <td>3</td>\n    </tr>\n    <tr>\n      <th>467729</th>\n      <td>988</td>\n      <td>272.4</td>\n      <td>3</td>\n    </tr>\n  </tbody>\n</table>\n</div>"
     },
     "metadata": {},
     "execution_count": 16
    }
   ],
   "source": [
    "data[len(data)-2:]"
   ]
  },
  {
   "cell_type": "code",
   "execution_count": 28,
   "metadata": {},
   "outputs": [
    {
     "output_type": "execute_result",
     "data": {
      "text/plain": "        pedestrianId  simTime  groupId-PID5\n155425           366     90.6             3\n155426           373     90.6             1\n155427           378     90.6             1",
      "text/html": "<div>\n<style scoped>\n    .dataframe tbody tr th:only-of-type {\n        vertical-align: middle;\n    }\n\n    .dataframe tbody tr th {\n        vertical-align: top;\n    }\n\n    .dataframe thead th {\n        text-align: right;\n    }\n</style>\n<table border=\"1\" class=\"dataframe\">\n  <thead>\n    <tr style=\"text-align: right;\">\n      <th></th>\n      <th>pedestrianId</th>\n      <th>simTime</th>\n      <th>groupId-PID5</th>\n    </tr>\n  </thead>\n  <tbody>\n    <tr>\n      <th>155425</th>\n      <td>366</td>\n      <td>90.6</td>\n      <td>3</td>\n    </tr>\n    <tr>\n      <th>155426</th>\n      <td>373</td>\n      <td>90.6</td>\n      <td>1</td>\n    </tr>\n    <tr>\n      <th>155427</th>\n      <td>378</td>\n      <td>90.6</td>\n      <td>1</td>\n    </tr>\n  </tbody>\n</table>\n</div>"
     },
     "metadata": {},
     "execution_count": 28
    }
   ],
   "source": [
    "data[155425:155428]"
   ]
  },
  {
   "cell_type": "code",
   "execution_count": null,
   "metadata": {},
   "outputs": [],
   "source": []
  }
 ],
 "metadata": {
  "language_info": {
   "codemirror_mode": {
    "name": "ipython",
    "version": 3
   },
   "file_extension": ".py",
   "mimetype": "text/x-python",
   "name": "python",
   "nbconvert_exporter": "python",
   "pygments_lexer": "ipython3",
   "version": "3.7.3-final"
  },
  "orig_nbformat": 2,
  "kernelspec": {
   "name": "python37364bitpytorchconda1545031e98af432db1e61eacbd344185",
   "display_name": "Python 3.7.3 64-bit ('pytorch': conda)"
  }
 },
 "nbformat": 4,
 "nbformat_minor": 2
}